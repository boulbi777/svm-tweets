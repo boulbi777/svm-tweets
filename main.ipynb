{
 "cells": [
  {
   "cell_type": "markdown",
   "metadata": {},
   "source": [
    "# Compte Rendu du TP SVM\n",
    "### Auteurs : Boubacar TRAORE & Zakarya JARRAYA"
   ]
  },
  {
   "cell_type": "code",
   "execution_count": 1,
   "metadata": {},
   "outputs": [],
   "source": [
    "%load_ext autoreload\n",
    "%autoreload 2"
   ]
  },
  {
   "cell_type": "code",
   "execution_count": 2,
   "metadata": {},
   "outputs": [
    {
     "data": {
      "text/html": [
       "\n",
       "    <style>\n",
       "    \n",
       "    .rendered_html {\n",
       "         font-size: 22px; \n",
       "         font-family: Garamond;\n",
       "         line-height: 140%;\n",
       "         text-align: justify;\n",
       "         text-justify: inter-word;\n",
       "    }\n",
       "\n",
       "    div.text_cell_render h1 { /* Main titles bigger, centered */\n",
       "        text-align:center;\n",
       "    # }\n",
       "    \n",
       "    </style>"
      ],
      "text/plain": [
       "<IPython.core.display.HTML object>"
      ]
     },
     "metadata": {},
     "output_type": "display_data"
    }
   ],
   "source": [
    "# Changement de la police utilisée et de sa taille\n",
    "from IPython.core.display import HTML, display\n",
    "from tp_tools import change_font\n",
    "display(HTML(change_font()))"
   ]
  },
  {
   "cell_type": "code",
   "execution_count": 4,
   "metadata": {},
   "outputs": [
    {
     "data": {
      "text/html": [
       "<div id=\"my_id_menu_nb\">run previous cell, wait for 2 seconds</div>\n",
       "<script>\n",
       "function repeat_indent_string(n){\n",
       "    var a = \"\" ;\n",
       "    for ( ; n > 0 ; --n)\n",
       "        a += \"    \";\n",
       "    return a;\n",
       "}\n",
       "// look up into all sections and builds an automated menu //\n",
       "var update_menu_string = function(begin, lfirst, llast, sformat, send, keep_item, begin_format, end_format) {\n",
       "    var anchors = document.getElementsByClassName(\"section\");\n",
       "    if (anchors.length == 0) {\n",
       "        anchors = document.getElementsByClassName(\"text_cell_render rendered_html\");\n",
       "    }\n",
       "    var i,t;\n",
       "    var text_menu = begin;\n",
       "    var text_memo = \"<pre>\\nlength:\" + anchors.length + \"\\n\";\n",
       "    var ind = \"\";\n",
       "    var memo_level = 1;\n",
       "    var href;\n",
       "    var tags = [];\n",
       "    var main_item = 0;\n",
       "    var format_open = 0;\n",
       "    for (i = 0; i <= llast; i++)\n",
       "        tags.push(\"h\" + i);\n",
       "\n",
       "    for (i = 0; i < anchors.length; i++) {\n",
       "        text_memo += \"**\" + anchors[i].id + \"--\\n\";\n",
       "\n",
       "        var child = null;\n",
       "        for(t = 0; t < tags.length; t++) {\n",
       "            var r = anchors[i].getElementsByTagName(tags[t]);\n",
       "            if (r.length > 0) {\n",
       "child = r[0];\n",
       "break;\n",
       "            }\n",
       "        }\n",
       "        if (child == null) {\n",
       "            text_memo += \"null\\n\";\n",
       "            continue;\n",
       "        }\n",
       "        if (anchors[i].hasAttribute(\"id\")) {\n",
       "            // when converted in RST\n",
       "            href = anchors[i].id;\n",
       "            text_memo += \"#1-\" + href;\n",
       "            // passer à child suivant (le chercher)\n",
       "        }\n",
       "        else if (child.hasAttribute(\"id\")) {\n",
       "            // in a notebook\n",
       "            href = child.id;\n",
       "            text_memo += \"#2-\" + href;\n",
       "        }\n",
       "        else {\n",
       "            text_memo += \"#3-\" + \"*\" + \"\\n\";\n",
       "            continue;\n",
       "        }\n",
       "        var title = child.textContent;\n",
       "        var level = parseInt(child.tagName.substring(1,2));\n",
       "\n",
       "        text_memo += \"--\" + level + \"?\" + lfirst + \"--\" + title + \"\\n\";\n",
       "\n",
       "        if ((level < lfirst) || (level > llast)) {\n",
       "            continue ;\n",
       "        }\n",
       "        if (title.endsWith('¶')) {\n",
       "            title = title.substring(0,title.length-1).replace(\"<\", \"&lt;\")\n",
       "         .replace(\">\", \"&gt;\").replace(\"&\", \"&amp;\");\n",
       "        }\n",
       "        if (title.length == 0) {\n",
       "            continue;\n",
       "        }\n",
       "\n",
       "        while (level < memo_level) {\n",
       "            text_menu += end_format + \"</ul>\\n\";\n",
       "            format_open -= 1;\n",
       "            memo_level -= 1;\n",
       "        }\n",
       "        if (level == lfirst) {\n",
       "            main_item += 1;\n",
       "        }\n",
       "        if (keep_item != -1 && main_item != keep_item + 1) {\n",
       "            // alert(main_item + \" - \" + level + \" - \" + keep_item);\n",
       "            continue;\n",
       "        }\n",
       "        while (level > memo_level) {\n",
       "            text_menu += \"<ul>\\n\";\n",
       "            memo_level += 1;\n",
       "        }\n",
       "        text_menu += repeat_indent_string(level-2);\n",
       "        text_menu += begin_format + sformat.replace(\"__HREF__\", href).replace(\"__TITLE__\", title);\n",
       "        format_open += 1;\n",
       "    }\n",
       "    while (1 < memo_level) {\n",
       "        text_menu += end_format + \"</ul>\\n\";\n",
       "        memo_level -= 1;\n",
       "        format_open -= 1;\n",
       "    }\n",
       "    text_menu += send;\n",
       "    //text_menu += \"\\n\" + text_memo;\n",
       "\n",
       "    while (format_open > 0) {\n",
       "        text_menu += end_format;\n",
       "        format_open -= 1;\n",
       "    }\n",
       "    return text_menu;\n",
       "};\n",
       "var update_menu = function() {\n",
       "    var sbegin = \"\";\n",
       "    var sformat = '<a href=\"#__HREF__\">__TITLE__</a>';\n",
       "    var send = \"\";\n",
       "    var begin_format = '<li>';\n",
       "    var end_format = '</li>';\n",
       "    var keep_item = -1;\n",
       "    var text_menu = update_menu_string(sbegin, 2, 4, sformat, send, keep_item,\n",
       "       begin_format, end_format);\n",
       "    var menu = document.getElementById(\"my_id_menu_nb\");\n",
       "    menu.innerHTML=text_menu;\n",
       "};\n",
       "window.setTimeout(update_menu,2000);\n",
       "            </script>"
      ],
      "text/plain": [
       "<IPython.core.display.HTML object>"
      ]
     },
     "execution_count": 4,
     "metadata": {},
     "output_type": "execute_result"
    }
   ],
   "source": [
    "from jyquickhelper import add_notebook_menu\n",
    "add_notebook_menu()"
   ]
  },
  {
   "cell_type": "code",
   "execution_count": 173,
   "metadata": {},
   "outputs": [
    {
     "data": {
      "text/html": [
       "<script>requirejs.config({paths: { 'plotly': ['https://cdn.plot.ly/plotly-latest.min']},});if(!window.Plotly) {{require(['plotly'],function(plotly) {window.Plotly=plotly;});}}</script>"
      ],
      "text/vnd.plotly.v1+html": [
       "<script>requirejs.config({paths: { 'plotly': ['https://cdn.plot.ly/plotly-latest.min']},});if(!window.Plotly) {{require(['plotly'],function(plotly) {window.Plotly=plotly;});}}</script>"
      ]
     },
     "metadata": {},
     "output_type": "display_data"
    }
   ],
   "source": [
    "import pandas as pd\n",
    "from sklearn.feature_extraction.text import CountVectorizer\n",
    "from nltk.corpus import stopwords\n",
    "from sklearn.model_selection import KFold\n",
    "from sklearn.naive_bayes import GaussianNB\n",
    "from nltk.stem import WordNetLemmatizer\n",
    "from sklearn import svm\n",
    "import langid\n",
    "from plotly.offline import download_plotlyjs, init_notebook_mode, plot, iplot\n",
    "import plotly.graph_objs as go\n",
    "\n",
    "init_notebook_mode(connected=True)"
   ]
  },
  {
   "cell_type": "markdown",
   "metadata": {},
   "source": [
    "Lecture et affichaque de quelques observations de la base de données."
   ]
  },
  {
   "cell_type": "code",
   "execution_count": 98,
   "metadata": {},
   "outputs": [
    {
     "data": {
      "text/html": [
       "<div>\n",
       "<style scoped>\n",
       "    .dataframe tbody tr th:only-of-type {\n",
       "        vertical-align: middle;\n",
       "    }\n",
       "\n",
       "    .dataframe tbody tr th {\n",
       "        vertical-align: top;\n",
       "    }\n",
       "\n",
       "    .dataframe thead th {\n",
       "        text-align: right;\n",
       "    }\n",
       "</style>\n",
       "<table border=\"1\" class=\"dataframe\">\n",
       "  <thead>\n",
       "    <tr style=\"text-align: right;\">\n",
       "      <th></th>\n",
       "      <th>Topic</th>\n",
       "      <th>Sentiment</th>\n",
       "      <th>TweetId</th>\n",
       "      <th>TweetDate</th>\n",
       "      <th>TweetText</th>\n",
       "    </tr>\n",
       "  </thead>\n",
       "  <tbody>\n",
       "    <tr>\n",
       "      <th>42</th>\n",
       "      <td>apple</td>\n",
       "      <td>positive</td>\n",
       "      <td>126164430546403328</td>\n",
       "      <td>Tue Oct 18 05:15:18 +0000 2011</td>\n",
       "      <td>Incredible: 4 million iPhone 4Ss in 3 days. 13...</td>\n",
       "    </tr>\n",
       "    <tr>\n",
       "      <th>3354</th>\n",
       "      <td>microsoft</td>\n",
       "      <td>irrelevant</td>\n",
       "      <td>126781181466378240</td>\n",
       "      <td>Wed Oct 19 22:06:03 +0000 2011</td>\n",
       "      <td>#Microsoft: Una pantalla táctil al alcance de ...</td>\n",
       "    </tr>\n",
       "    <tr>\n",
       "      <th>311</th>\n",
       "      <td>apple</td>\n",
       "      <td>negative</td>\n",
       "      <td>125982320917364736</td>\n",
       "      <td>Mon Oct 17 17:11:40 +0000 2011</td>\n",
       "      <td>For being the inventor of the computer mouse —...</td>\n",
       "    </tr>\n",
       "    <tr>\n",
       "      <th>906</th>\n",
       "      <td>apple</td>\n",
       "      <td>neutral</td>\n",
       "      <td>125498684401135616</td>\n",
       "      <td>Sun Oct 16 09:09:52 +0000 2011</td>\n",
       "      <td>The battle of voice controlled AI platforms. I...</td>\n",
       "    </tr>\n",
       "    <tr>\n",
       "      <th>1979</th>\n",
       "      <td>google</td>\n",
       "      <td>neutral</td>\n",
       "      <td>126484018211454976</td>\n",
       "      <td>Wed Oct 19 02:25:14 +0000 2011</td>\n",
       "      <td>#Android #Google Samsung and Google introduce ...</td>\n",
       "    </tr>\n",
       "  </tbody>\n",
       "</table>\n",
       "</div>"
      ],
      "text/plain": [
       "          Topic   Sentiment             TweetId  \\\n",
       "42        apple    positive  126164430546403328   \n",
       "3354  microsoft  irrelevant  126781181466378240   \n",
       "311       apple    negative  125982320917364736   \n",
       "906       apple     neutral  125498684401135616   \n",
       "1979     google     neutral  126484018211454976   \n",
       "\n",
       "                           TweetDate  \\\n",
       "42    Tue Oct 18 05:15:18 +0000 2011   \n",
       "3354  Wed Oct 19 22:06:03 +0000 2011   \n",
       "311   Mon Oct 17 17:11:40 +0000 2011   \n",
       "906   Sun Oct 16 09:09:52 +0000 2011   \n",
       "1979  Wed Oct 19 02:25:14 +0000 2011   \n",
       "\n",
       "                                              TweetText  \n",
       "42    Incredible: 4 million iPhone 4Ss in 3 days. 13...  \n",
       "3354  #Microsoft: Una pantalla táctil al alcance de ...  \n",
       "311   For being the inventor of the computer mouse —...  \n",
       "906   The battle of voice controlled AI platforms. I...  \n",
       "1979  #Android #Google Samsung and Google introduce ...  "
      ]
     },
     "execution_count": 98,
     "metadata": {},
     "output_type": "execute_result"
    }
   ],
   "source": [
    "full_corpus = pd.read_csv('twitter_corpus/full-corpus.csv')\n",
    "full_corpus.sample(5, random_state=0)"
   ]
  },
  {
   "cell_type": "markdown",
   "metadata": {},
   "source": [
    "## Traitement de la base"
   ]
  },
  {
   "cell_type": "code",
   "execution_count": 99,
   "metadata": {},
   "outputs": [
    {
     "data": {
      "text/plain": [
       "(5113, 5)"
      ]
     },
     "execution_count": 99,
     "metadata": {},
     "output_type": "execute_result"
    }
   ],
   "source": [
    "full_corpus.shape"
   ]
  },
  {
   "cell_type": "markdown",
   "metadata": {},
   "source": [
    "On a 5113 tweets. Il y a plusieurs langues que nous pouvons directement voir dans la colonne TweetText, par exemple la 2e observation est de l'espagnol. Il est necessaire de faire un traitement particulier selon le langage utilisé pour le tweet."
   ]
  },
  {
   "cell_type": "code",
   "execution_count": 179,
   "metadata": {},
   "outputs": [
    {
     "data": {
      "application/vnd.plotly.v1+json": {
       "data": [
        {
         "orientation": "h",
         "type": "bar",
         "uid": "dbc35474-0ca9-11ea-889e-68ecc5c86116",
         "x": [
          501,
          560,
          1107,
          2243
         ],
         "y": [
          "positive",
          "negative",
          "irrelevant",
          "neutral"
         ]
        }
       ],
       "layout": {
        "autosize": true,
        "xaxis": {
         "autorange": true,
         "range": [
          0,
          2361.0526315789475
         ],
         "type": "linear"
        },
        "yaxis": {
         "autorange": true,
         "range": [
          -0.5,
          3.5
         ],
         "type": "category"
        }
       }
      },
      "image/png": "[encoded data removed]",
      "text/html": [
       "<div id=\"15381559-ff14-4cf9-8323-e9d7fdea9faa\" style=\"height: 525px; width: 100%;\" class=\"plotly-graph-div\"></div><script type=\"text/javascript\">require([\"plotly\"], function(Plotly) { window.PLOTLYENV=window.PLOTLYENV || {};window.PLOTLYENV.BASE_URL=\"https://plot.ly\";Plotly.newPlot(\"15381559-ff14-4cf9-8323-e9d7fdea9faa\", [{\"orientation\": \"h\", \"x\": [501, 560, 1107, 2243], \"y\": [\"positive\", \"negative\", \"irrelevant\", \"neutral\"], \"type\": \"bar\", \"uid\": \"dbc723d2-0ca9-11ea-8cc2-68ecc5c86116\"}], {}, {\"showLink\": true, \"linkText\": \"Export to plot.ly\"})});</script>"
      ],
      "text/vnd.plotly.v1+html": [
       "<div id=\"15381559-ff14-4cf9-8323-e9d7fdea9faa\" style=\"height: 525px; width: 100%;\" class=\"plotly-graph-div\"></div><script type=\"text/javascript\">require([\"plotly\"], function(Plotly) { window.PLOTLYENV=window.PLOTLYENV || {};window.PLOTLYENV.BASE_URL=\"https://plot.ly\";Plotly.newPlot(\"15381559-ff14-4cf9-8323-e9d7fdea9faa\", [{\"orientation\": \"h\", \"x\": [501, 560, 1107, 2243], \"y\": [\"positive\", \"negative\", \"irrelevant\", \"neutral\"], \"type\": \"bar\", \"uid\": \"dbc723d2-0ca9-11ea-8cc2-68ecc5c86116\"}], {}, {\"showLink\": true, \"linkText\": \"Export to plot.ly\"})});</script>"
      ]
     },
     "metadata": {},
     "output_type": "display_data"
    }
   ],
   "source": [
    "s = full_corpus.Sentiment.value_counts(ascending=True)\n",
    "data  = [go.Bar(\n",
    "            x= s.values,\n",
    "            y=s.index,\n",
    "            orientation = 'h'\n",
    ")]\n",
    "iplot(data)"
   ]
  },
  {
   "cell_type": "markdown",
   "metadata": {},
   "source": [
    "Les commentaires neutres sont les plus nombreux. Nous avons un déséquilibre au niveau de la classe à prédire. Nous tenons compte de ce cas pour certains modèles."
   ]
  },
  {
   "cell_type": "markdown",
   "metadata": {},
   "source": [
    "## Détection de langage"
   ]
  },
  {
   "cell_type": "code",
   "execution_count": 101,
   "metadata": {},
   "outputs": [
    {
     "data": {
      "text/html": [
       "<div>\n",
       "<style scoped>\n",
       "    .dataframe tbody tr th:only-of-type {\n",
       "        vertical-align: middle;\n",
       "    }\n",
       "\n",
       "    .dataframe tbody tr th {\n",
       "        vertical-align: top;\n",
       "    }\n",
       "\n",
       "    .dataframe thead th {\n",
       "        text-align: right;\n",
       "    }\n",
       "</style>\n",
       "<table border=\"1\" class=\"dataframe\">\n",
       "  <thead>\n",
       "    <tr style=\"text-align: right;\">\n",
       "      <th></th>\n",
       "      <th>Topic</th>\n",
       "      <th>Sentiment</th>\n",
       "      <th>TweetId</th>\n",
       "      <th>TweetDate</th>\n",
       "      <th>TweetText</th>\n",
       "      <th>language</th>\n",
       "    </tr>\n",
       "  </thead>\n",
       "  <tbody>\n",
       "    <tr>\n",
       "      <th>346</th>\n",
       "      <td>apple</td>\n",
       "      <td>negative</td>\n",
       "      <td>125845538926112768</td>\n",
       "      <td>Mon Oct 17 08:08:09 +0000 2011</td>\n",
       "      <td>@apple, your update server has been timing out...</td>\n",
       "      <td>en</td>\n",
       "    </tr>\n",
       "    <tr>\n",
       "      <th>3867</th>\n",
       "      <td>twitter</td>\n",
       "      <td>positive</td>\n",
       "      <td>126863821594832897</td>\n",
       "      <td>Thu Oct 20 03:34:26 +0000 2011</td>\n",
       "      <td>Dear #twitter I have missed you. Promise i'll ...</td>\n",
       "      <td>en</td>\n",
       "    </tr>\n",
       "    <tr>\n",
       "      <th>3309</th>\n",
       "      <td>microsoft</td>\n",
       "      <td>neutral</td>\n",
       "      <td>126483887923793920</td>\n",
       "      <td>Wed Oct 19 02:24:43 +0000 2011</td>\n",
       "      <td>#microsoft makes every surface a touch screen ...</td>\n",
       "      <td>en</td>\n",
       "    </tr>\n",
       "    <tr>\n",
       "      <th>1832</th>\n",
       "      <td>google</td>\n",
       "      <td>neutral</td>\n",
       "      <td>126496131382382592</td>\n",
       "      <td>Wed Oct 19 03:13:22 +0000 2011</td>\n",
       "      <td>Calling All #IceCreamSandwich Lovers | #Google...</td>\n",
       "      <td>en</td>\n",
       "    </tr>\n",
       "    <tr>\n",
       "      <th>943</th>\n",
       "      <td>apple</td>\n",
       "      <td>neutral</td>\n",
       "      <td>125360952878182400</td>\n",
       "      <td>Sun Oct 16 00:02:35 +0000 2011</td>\n",
       "      <td>Too many iPhones.  @apple @dcoult #FirstWorldP...</td>\n",
       "      <td>en</td>\n",
       "    </tr>\n",
       "  </tbody>\n",
       "</table>\n",
       "</div>"
      ],
      "text/plain": [
       "          Topic Sentiment             TweetId                       TweetDate  \\\n",
       "346       apple  negative  125845538926112768  Mon Oct 17 08:08:09 +0000 2011   \n",
       "3867    twitter  positive  126863821594832897  Thu Oct 20 03:34:26 +0000 2011   \n",
       "3309  microsoft   neutral  126483887923793920  Wed Oct 19 02:24:43 +0000 2011   \n",
       "1832     google   neutral  126496131382382592  Wed Oct 19 03:13:22 +0000 2011   \n",
       "943       apple   neutral  125360952878182400  Sun Oct 16 00:02:35 +0000 2011   \n",
       "\n",
       "                                              TweetText language  \n",
       "346   @apple, your update server has been timing out...       en  \n",
       "3867  Dear #twitter I have missed you. Promise i'll ...       en  \n",
       "3309  #microsoft makes every surface a touch screen ...       en  \n",
       "1832  Calling All #IceCreamSandwich Lovers | #Google...       en  \n",
       "943   Too many iPhones.  @apple @dcoult #FirstWorldP...       en  "
      ]
     },
     "execution_count": 101,
     "metadata": {},
     "output_type": "execute_result"
    }
   ],
   "source": [
    "full_corpus['language'] = full_corpus.TweetText.apply(lambda r: langid.classify(r)[0])\n",
    "full_corpus.sample(5, random_state=24)"
   ]
  },
  {
   "cell_type": "code",
   "execution_count": 102,
   "metadata": {},
   "outputs": [
    {
     "data": {
      "text/plain": [
       "en    0.670252\n",
       "es    0.124976\n",
       "fr    0.036182\n",
       "de    0.031293\n",
       "Name: language, dtype: float64"
      ]
     },
     "execution_count": 102,
     "metadata": {},
     "output_type": "execute_result"
    }
   ],
   "source": [
    "full_corpus.language.value_counts(normalize=True).head(4)"
   ]
  },
  {
   "cell_type": "code",
   "execution_count": 103,
   "metadata": {},
   "outputs": [
    {
     "data": {
      "text/plain": [
       "0.8627029141404264"
      ]
     },
     "execution_count": 103,
     "metadata": {},
     "output_type": "execute_result"
    }
   ],
   "source": [
    "full_corpus.language.value_counts(normalize=True).head(4).sum()"
   ]
  },
  {
   "cell_type": "markdown",
   "metadata": {},
   "source": [
    "Nous remarquons que 86,2% des tweets sont en anglais, espagnol, francais et allemand (German). Nous n'allons nous intéresser qu'à ces quatres langages pour l'instant. "
   ]
  },
  {
   "cell_type": "code",
   "execution_count": 127,
   "metadata": {},
   "outputs": [
    {
     "data": {
      "text/plain": [
       "(4411, 6)"
      ]
     },
     "execution_count": 127,
     "metadata": {},
     "output_type": "execute_result"
    }
   ],
   "source": [
    "# On ne s'interese qu'aux tweets faits dans les quatres langues populaires\n",
    "# Le nombre total de tweets chute à 4 411.\n",
    "full_corpus[full_corpus.language.isin(lang_list)].shape"
   ]
  },
  {
   "cell_type": "markdown",
   "metadata": {},
   "source": [
    "## Nettoyage des stop_words selon le langage utilisé"
   ]
  },
  {
   "cell_type": "code",
   "execution_count": 104,
   "metadata": {},
   "outputs": [
    {
     "data": {
      "text/plain": [
       "['en', 'es', 'fr', 'de']"
      ]
     },
     "execution_count": 104,
     "metadata": {},
     "output_type": "execute_result"
    }
   ],
   "source": [
    "lang_list = full_corpus.language.value_counts(normalize=True).head(4).index.values.tolist()\n",
    "lang_list"
   ]
  },
  {
   "cell_type": "code",
   "execution_count": 157,
   "metadata": {},
   "outputs": [],
   "source": [
    "#selection  des langues\n",
    "full_corpus = full_corpus[full_corpus.language.isin(lang_list)].reset_index()"
   ]
  },
  {
   "cell_type": "code",
   "execution_count": 129,
   "metadata": {},
   "outputs": [
    {
     "data": {
      "text/plain": [
       "{'en': 'english', 'es': 'spanish', 'fr': 'french', 'de': 'german'}"
      ]
     },
     "execution_count": 129,
     "metadata": {},
     "output_type": "execute_result"
    }
   ],
   "source": [
    "lang_dict = dict(zip(lang_list, ['english', 'spanish', 'french','german']))\n",
    "lang_dict"
   ]
  },
  {
   "cell_type": "code",
   "execution_count": 130,
   "metadata": {},
   "outputs": [
    {
     "data": {
      "text/plain": [
       "neutral       0.508501\n",
       "irrelevant    0.250964\n",
       "negative      0.126955\n",
       "positive      0.113580\n",
       "Name: Sentiment, dtype: float64"
      ]
     },
     "execution_count": 130,
     "metadata": {},
     "output_type": "execute_result"
    }
   ],
   "source": [
    "full_corpus.Sentiment.value_counts(normalize=True)"
   ]
  },
  {
   "cell_type": "markdown",
   "metadata": {},
   "source": [
    "On définit un lemmatizer qui permet de regrouper des types de mots identiques (par exemple \"dogs\" et \"dog\" sont les mêmes en anglais et il serait inutile de les compter doublement). Elle utilisée dans la fonction \"clean_tweet\". Cette dernière contient aussi les instructions pour mettre en minuscule chaque mot rencontré."
   ]
  },
  {
   "cell_type": "code",
   "execution_count": 140,
   "metadata": {},
   "outputs": [],
   "source": [
    "lemmatizer = WordNetLemmatizer()"
   ]
  },
  {
   "cell_type": "code",
   "execution_count": 141,
   "metadata": {},
   "outputs": [],
   "source": [
    "# function to drop stopwords from each observation (selon la langue)\n",
    "# il faut tout mettre en minuscule aussi et utiliser le lemmatizer pour remettre les mots similaires ensemble\n",
    "lemmatizer = WordNetLemmatizer()\n",
    "def clean_tweet(r):\n",
    "    words = r.TweetText.split(' ')\n",
    "    words = [lemmatizer.lemmatizer(word.lower()) for word in words if word not in list(set(stopwords.words(lang_dict[r.language])))]\n",
    "    return ' '.join(words)"
   ]
  },
  {
   "cell_type": "code",
   "execution_count": 142,
   "metadata": {},
   "outputs": [
    {
     "data": {
      "text/html": [
       "<div>\n",
       "<style scoped>\n",
       "    .dataframe tbody tr th:only-of-type {\n",
       "        vertical-align: middle;\n",
       "    }\n",
       "\n",
       "    .dataframe tbody tr th {\n",
       "        vertical-align: top;\n",
       "    }\n",
       "\n",
       "    .dataframe thead th {\n",
       "        text-align: right;\n",
       "    }\n",
       "</style>\n",
       "<table border=\"1\" class=\"dataframe\">\n",
       "  <thead>\n",
       "    <tr style=\"text-align: right;\">\n",
       "      <th></th>\n",
       "      <th>Topic</th>\n",
       "      <th>Sentiment</th>\n",
       "      <th>TweetId</th>\n",
       "      <th>TweetDate</th>\n",
       "      <th>TweetText</th>\n",
       "      <th>language</th>\n",
       "      <th>CleanTweetText</th>\n",
       "    </tr>\n",
       "  </thead>\n",
       "  <tbody>\n",
       "    <tr>\n",
       "      <th>1154</th>\n",
       "      <td>google</td>\n",
       "      <td>positive</td>\n",
       "      <td>126530945976238080</td>\n",
       "      <td>Wed Oct 19 05:31:43 +0000 2011</td>\n",
       "      <td>I fancy an Ice Cream Sandwich #google #android...</td>\n",
       "      <td>en</td>\n",
       "      <td>i fancy ice cream sandwich #google #android. w...</td>\n",
       "    </tr>\n",
       "    <tr>\n",
       "      <th>1331</th>\n",
       "      <td>google</td>\n",
       "      <td>positive</td>\n",
       "      <td>126487508589621248</td>\n",
       "      <td>Wed Oct 19 02:39:06 +0000 2011</td>\n",
       "      <td>Thank god Gmail app has been redesigned under ...</td>\n",
       "      <td>en</td>\n",
       "      <td>thank god gmail app redesigned android 4.0. co...</td>\n",
       "    </tr>\n",
       "    <tr>\n",
       "      <th>121</th>\n",
       "      <td>apple</td>\n",
       "      <td>positive</td>\n",
       "      <td>125628199269961729</td>\n",
       "      <td>Sun Oct 16 17:44:31 +0000 2011</td>\n",
       "      <td>@Apple's Siri is witchcraft.  What's next @goo...</td>\n",
       "      <td>en</td>\n",
       "      <td>@apple's siri witchcraft.  what's next @google...</td>\n",
       "    </tr>\n",
       "    <tr>\n",
       "      <th>4595</th>\n",
       "      <td>twitter</td>\n",
       "      <td>irrelevant</td>\n",
       "      <td>126880477943570433</td>\n",
       "      <td>Thu Oct 20 04:40:37 +0000 2011</td>\n",
       "      <td>#Facebook ah quedado en el olvido gracias a #T...</td>\n",
       "      <td>es</td>\n",
       "      <td>#facebook ah quedado olvido gracias #twitter</td>\n",
       "    </tr>\n",
       "    <tr>\n",
       "      <th>2617</th>\n",
       "      <td>microsoft</td>\n",
       "      <td>negative</td>\n",
       "      <td>126675041353076738</td>\n",
       "      <td>Wed Oct 19 15:04:18 +0000 2011</td>\n",
       "      <td>#microsoft update is so slow  :(( http://t.co/...</td>\n",
       "      <td>en</td>\n",
       "      <td>#microsoft update slow  :(( http://t.co/37ighgic</td>\n",
       "    </tr>\n",
       "  </tbody>\n",
       "</table>\n",
       "</div>"
      ],
      "text/plain": [
       "          Topic   Sentiment             TweetId  \\\n",
       "1154     google    positive  126530945976238080   \n",
       "1331     google    positive  126487508589621248   \n",
       "121       apple    positive  125628199269961729   \n",
       "4595    twitter  irrelevant  126880477943570433   \n",
       "2617  microsoft    negative  126675041353076738   \n",
       "\n",
       "                           TweetDate  \\\n",
       "1154  Wed Oct 19 05:31:43 +0000 2011   \n",
       "1331  Wed Oct 19 02:39:06 +0000 2011   \n",
       "121   Sun Oct 16 17:44:31 +0000 2011   \n",
       "4595  Thu Oct 20 04:40:37 +0000 2011   \n",
       "2617  Wed Oct 19 15:04:18 +0000 2011   \n",
       "\n",
       "                                              TweetText language  \\\n",
       "1154  I fancy an Ice Cream Sandwich #google #android...       en   \n",
       "1331  Thank god Gmail app has been redesigned under ...       en   \n",
       "121   @Apple's Siri is witchcraft.  What's next @goo...       en   \n",
       "4595  #Facebook ah quedado en el olvido gracias a #T...       es   \n",
       "2617  #microsoft update is so slow  :(( http://t.co/...       en   \n",
       "\n",
       "                                         CleanTweetText  \n",
       "1154  i fancy ice cream sandwich #google #android. w...  \n",
       "1331  thank god gmail app redesigned android 4.0. co...  \n",
       "121   @apple's siri witchcraft.  what's next @google...  \n",
       "4595       #facebook ah quedado olvido gracias #twitter  \n",
       "2617   #microsoft update slow  :(( http://t.co/37ighgic  "
      ]
     },
     "execution_count": 142,
     "metadata": {},
     "output_type": "execute_result"
    }
   ],
   "source": [
    "full_corpus['CleanTweetText'] = full_corpus.apply(clean_tweet, axis=1)\n",
    "full_corpus.sample(5, random_state=0)"
   ]
  },
  {
   "cell_type": "code",
   "execution_count": 148,
   "metadata": {},
   "outputs": [
    {
     "data": {
      "text/plain": [
       "0               now @apple get swype iphone crack. iphone\n",
       "1       @apple adding carrier support iphone 4s (just ...\n",
       "2       hilarious @youtube video - guy duet @apple 's ...\n",
       "3            @rim made easy switch @apple iphone. see ya!\n",
       "4       i realized reason i got twitter ios5 thanks @a...\n",
       "5       i'm current @blackberry user, little bit disap...\n",
       "6       the 16 strangest things siri said far. i sooo ...\n",
       "7       great close & personal event @apple tonight re...\n",
       "8       from companies experience best customer servic...\n",
       "9                    just apply job @apple, hope call lol\n",
       "10      rt @jamaicanidler: lmao i think @apple onto so...\n",
       "11      lmao i think @apple onto something magical! i ...\n",
       "12      rt @philliprowntree: just registered @apple de...\n",
       "14      just registered @apple developer... here's hop...\n",
       "15      你好 ! currently learning mandarin upcoming trip...\n",
       "16      come dark side 📱“@gretcheneclark: hey @apple, ...\n",
       "17      hey @apple, send free iphone (any version do),...\n",
       "18      thank @apple find my mac - located wiped stole...\n",
       "19      thanks @apple covent garden #geniusbar replaci...\n",
       "20                         @dailydealchat @apple thanks!!\n",
       "21      ipads replace bound playbooks some n.f.l. team...\n",
       "22                                      @apple..good ipad\n",
       "23                         @apple @siri efffing amazing!!\n",
       "24      amazing new @apple ios 5 feature.  http://t.co...\n",
       "25      rt @triplingo: we're one \"featured education a...\n",
       "26      we're one \"featured education apps\" @apple **w...\n",
       "27      when want something done right, yourself... go...\n",
       "28      we unexpected workshop #iphone4s @apple yester...\n",
       "29                                     &lt;3 #ios5 @apple\n",
       "30      ---» rt @apple no question bro. rt @ainteeentr...\n",
       "                              ...                        \n",
       "5068               dio pereza buscar usuario #twitter :p+\n",
       "5069    rt @mlucia187: atrum tt!!!! jajajaja!!! q buen...\n",
       "5070            y asi cambie cosas #facebook #twitter! =d\n",
       "5072                      hasta puto #twitter cagando ¬¬'\n",
       "5073    buenas noches, sigan pasandosela bn .. ok #twi...\n",
       "5074               yo toy en #twitter hoy ando cansada :/\n",
       "5076    primera vez @carlo_patricio da reply #twitter ...\n",
       "5077    #teamfollowback #tfb #mustfollow #mf #followno...\n",
       "5078    cuando  hacer #twitter, haciendo tareas #twitt...\n",
       "5079    #teamfollowback #tfb #mustfollow #mf #followno...\n",
       "5081    now tuned http://t.co/dymdmu3z @deejaydenco! #...\n",
       "5082                         @jessnovelo #twitter? jajaja\n",
       "5084                       nunca comprendí sirve #twitter\n",
       "5085    \"@julioeffio: @chriseffio juraba habian hackea...\n",
       "5086    @jorgetb7 jajajajajaja mejor dilo x radio pues...\n",
       "5088                mimir nos leemos mañanaa #twitter off\n",
       "5089    @sniferl4bs o.o estoy interesado aprender cómo...\n",
       "5090                        vamos ver ofreciendo #twitter\n",
       "5091    @dayathomas amiga doy bienvenida #twitter!!! k...\n",
       "5092            hoy si hora dormir ツ #twitter&facebookoff\n",
       "5093    uff... así #twitter... hacer respecto #anoques...\n",
       "5094    @ppmorraz hahaha chistes #ninel vuelto famosos...\n",
       "5095    #facebook paso moda ahors toda a plebe se vien...\n",
       "5096                  van entender #twitter chat jajajaja\n",
       "5097    me dijeron q vuelva país soretes llegue #twitt...\n",
       "5104    sin hacer referencia voy pal carajo dormir bue...\n",
       "5106    #twitter vale 8,000 mdd http://t.co/gqxbjo7j 4...\n",
       "5107    @nataliagdl1207 hahahaha bby, obviamente ti, n...\n",
       "5109      buenas noches genteeee :) #twitter quierooo ...\n",
       "5110     #twitter mala costumbre ponerce bno cuano voy :/\n",
       "Name: CleanTweetText, Length: 4411, dtype: object"
      ]
     },
     "execution_count": 148,
     "metadata": {},
     "output_type": "execute_result"
    }
   ],
   "source": [
    "full_corpus.CleanTweetText"
   ]
  },
  {
   "cell_type": "markdown",
   "metadata": {},
   "source": [
    "Les commentaires semblent bien nettoyés ont été netoyées."
   ]
  },
  {
   "cell_type": "markdown",
   "metadata": {},
   "source": [
    "## Countvectorizer avec unigramme"
   ]
  },
  {
   "cell_type": "markdown",
   "metadata": {},
   "source": [
    "### Modèle bayésien naif gaussien"
   ]
  },
  {
   "cell_type": "code",
   "execution_count": 184,
   "metadata": {},
   "outputs": [],
   "source": [
    "# create parser of words\n",
    "parser = CountVectorizer()"
   ]
  },
  {
   "cell_type": "code",
   "execution_count": 185,
   "metadata": {},
   "outputs": [],
   "source": [
    "kf = KFold(n_splits=5, random_state=42) \n",
    "gnb = GaussianNB()"
   ]
  },
  {
   "cell_type": "code",
   "execution_count": 186,
   "metadata": {},
   "outputs": [
    {
     "data": {
      "text/plain": [
       "array([[0, 0, 0, ..., 0, 0, 0],\n",
       "       [0, 0, 0, ..., 0, 0, 0],\n",
       "       [0, 0, 0, ..., 0, 0, 0],\n",
       "       ...,\n",
       "       [0, 0, 0, ..., 0, 0, 0],\n",
       "       [0, 0, 0, ..., 0, 0, 0],\n",
       "       [0, 0, 0, ..., 0, 0, 0]], dtype=int64)"
      ]
     },
     "execution_count": 186,
     "metadata": {},
     "output_type": "execute_result"
    }
   ],
   "source": [
    "X_full = parser.fit_transform(full_corpus.CleanTweetText).toarray()\n",
    "X_full"
   ]
  },
  {
   "cell_type": "code",
   "execution_count": 187,
   "metadata": {},
   "outputs": [
    {
     "name": "stdout",
     "output_type": "stream",
     "text": [
      "-------------------------------\n",
      "accuracy =  0.4360135900339751\n",
      "-------------------------------\n",
      "accuracy =  0.5\n",
      "-------------------------------\n",
      "accuracy =  0.4365079365079365\n",
      "-------------------------------\n",
      "accuracy =  0.5476190476190477\n",
      "-------------------------------\n",
      "accuracy =  0.54421768707483\n"
     ]
    }
   ],
   "source": [
    "for train_index, test_index in kf.split(full_corpus):\n",
    "    # Transform regressors to sparse Matrix\n",
    "    X_train, X_test = X_full[train_index], X_full[test_index]\n",
    "    y_train, y_test = full_corpus.Sentiment[train_index], full_corpus.Sentiment[test_index]\n",
    "    y_pred = gnb.fit(X_train, y_train).predict(X_test)\n",
    "    \n",
    "    print(\"-------------------------------\")\n",
    "    accuracy = (y_pred == y_test).mean()\n",
    "    print('accuracy = ', accuracy)"
   ]
  },
  {
   "cell_type": "markdown",
   "metadata": {},
   "source": [
    "## Utilisation des bigrams"
   ]
  },
  {
   "cell_type": "code",
   "execution_count": 188,
   "metadata": {},
   "outputs": [],
   "source": [
    "# create parser of words\n",
    "parser = CountVectorizer(ngram_range=(1,2))\n",
    "X_full = parser.fit_transform(full_corpus.CleanTweetText).toarray()"
   ]
  },
  {
   "cell_type": "code",
   "execution_count": 189,
   "metadata": {},
   "outputs": [
    {
     "name": "stdout",
     "output_type": "stream",
     "text": [
      "-------------------------------\n",
      "accuracy =  0.4552661381653454\n",
      "-------------------------------\n",
      "accuracy =  0.5102040816326531\n",
      "-------------------------------\n",
      "accuracy =  0.42290249433106575\n",
      "-------------------------------\n",
      "accuracy =  0.5680272108843537\n",
      "-------------------------------\n",
      "accuracy =  0.6190476190476191\n"
     ]
    }
   ],
   "source": [
    "for train_index, test_index in kf.split(full_corpus):\n",
    "    # Transform regressors to sparse Matrix\n",
    "    X_train, X_test = X_full[train_index], X_full[test_index]\n",
    "    y_train, y_test = full_corpus.Sentiment[train_index], full_corpus.Sentiment[test_index]\n",
    "    y_pred = gnb.fit(X_train, y_train).predict(X_test)\n",
    "    \n",
    "    print(\"-------------------------------\")\n",
    "    accuracy = (y_pred == y_test).mean()\n",
    "    print('accuracy = ', accuracy)"
   ]
  },
  {
   "cell_type": "markdown",
   "metadata": {},
   "source": [
    "Nous constatons que le modèle s'améliore légèrement pour chaque fold de notre validation croisée. Comme on s'y attendait, les bigrammes collent mieux à la détectionde langage humain via les tweets."
   ]
  },
  {
   "cell_type": "markdown",
   "metadata": {},
   "source": [
    "## Et mainenant du svm"
   ]
  },
  {
   "cell_type": "code",
   "execution_count": 190,
   "metadata": {},
   "outputs": [],
   "source": [
    "clf = svm.SVC(gamma='scale', class_weight='balanced', C=1)"
   ]
  },
  {
   "cell_type": "code",
   "execution_count": null,
   "metadata": {},
   "outputs": [
    {
     "name": "stdout",
     "output_type": "stream",
     "text": [
      "-------------------------------\n",
      "accuracy =  0.15288788221970556\n"
     ]
    }
   ],
   "source": [
    "for train_index, test_index in kf.split(full_corpus):\n",
    "    # Transform regressors to sparse Matrix\n",
    "    X_train, X_test = X_full[train_index], X_full[test_index]\n",
    "    y_train, y_test = full_corpus.Sentiment[train_index], full_corpus.Sentiment[test_index]\n",
    "    y_pred = clf.fit(X_train, y_train).predict(X_test)\n",
    "    \n",
    "    print(\"-------------------------------\")\n",
    "    accuracy = (y_pred == y_test).mean()\n",
    "    print('accuracy = ', accuracy)"
   ]
  },
  {
   "cell_type": "markdown",
   "metadata": {},
   "source": [
    "Les résultats sont moins bons dans le cas d'un SVM !! A noter qu'il est également possible de tuner les paramètres pour obtenir de meilleures performances. Comme indicateur de mesure, la précision n'est pas forcément un excellent indicateur, nous pouvons observer d'autres indicateurs de performances tels que le la matrice de confusion, le F1-score, etc.."
   ]
  }
 ],
 "metadata": {
  "kernelspec": {
   "display_name": "Python 3",
   "language": "python",
   "name": "python3"
  },
  "language_info": {
   "codemirror_mode": {
    "name": "ipython",
    "version": 3
   },
   "file_extension": ".py",
   "mimetype": "text/x-python",
   "name": "python",
   "nbconvert_exporter": "python",
   "pygments_lexer": "ipython3",
   "version": "3.7.0"
  }
 },
 "nbformat": 4,
 "nbformat_minor": 2
}
